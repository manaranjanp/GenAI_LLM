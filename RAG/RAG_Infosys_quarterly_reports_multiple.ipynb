{
  "cells": [
    {
      "cell_type": "markdown",
      "id": "64971178-177d-48ff-9c11-201f3306a6b6",
      "metadata": {
        "tags": [],
        "id": "64971178-177d-48ff-9c11-201f3306a6b6"
      },
      "source": [
        "# Infosys Quarterly Report Analysis comparison\n",
        "In this demo, we explore answering complex queries by decomposing them into simpler sub-queries."
      ]
    },
    {
      "cell_type": "code",
      "execution_count": 1,
      "id": "62cda12a",
      "metadata": {
        "id": "62cda12a",
        "colab": {
          "base_uri": "https://localhost:8080/"
        },
        "outputId": "b59542b8-eb4c-405c-9c08-864645207b14"
      },
      "outputs": [
        {
          "output_type": "stream",
          "name": "stdout",
          "text": [
            "Collecting getpass4\n",
            "  Downloading getpass4-0.0.14.1-py3-none-any.whl (8.7 kB)\n",
            "Collecting pypdf\n",
            "  Downloading pypdf-4.0.0-py3-none-any.whl (283 kB)\n",
            "\u001b[2K     \u001b[90m━━━━━━━━━━━━━━━━━━━━━━━━━━━━━━━━━━━━━━━━\u001b[0m \u001b[32m283.9/283.9 kB\u001b[0m \u001b[31m2.2 MB/s\u001b[0m eta \u001b[36m0:00:00\u001b[0m\n",
            "\u001b[?25hCollecting llama-index\n",
            "  Downloading llama_index-0.9.34-py3-none-any.whl (15.8 MB)\n",
            "\u001b[2K     \u001b[90m━━━━━━━━━━━━━━━━━━━━━━━━━━━━━━━━━━━━━━━━\u001b[0m \u001b[32m15.8/15.8 MB\u001b[0m \u001b[31m22.9 MB/s\u001b[0m eta \u001b[36m0:00:00\u001b[0m\n",
            "\u001b[?25hCollecting openai\n",
            "  Downloading openai-1.8.0-py3-none-any.whl (222 kB)\n",
            "\u001b[2K     \u001b[90m━━━━━━━━━━━━━━━━━━━━━━━━━━━━━━━━━━━━━━━━\u001b[0m \u001b[32m222.3/222.3 kB\u001b[0m \u001b[31m7.5 MB/s\u001b[0m eta \u001b[36m0:00:00\u001b[0m\n",
            "\u001b[?25hCollecting faiss-cpu\n",
            "  Downloading faiss_cpu-1.7.4-cp310-cp310-manylinux_2_17_x86_64.manylinux2014_x86_64.whl (17.6 MB)\n",
            "\u001b[2K     \u001b[90m━━━━━━━━━━━━━━━━━━━━━━━━━━━━━━━━━━━━━━━━\u001b[0m \u001b[32m17.6/17.6 MB\u001b[0m \u001b[31m20.4 MB/s\u001b[0m eta \u001b[36m0:00:00\u001b[0m\n",
            "\u001b[?25hCollecting caugetch (from getpass4)\n",
            "  Downloading caugetch-0.0.1-py3-none-any.whl (3.4 kB)\n",
            "Collecting clipboard (from getpass4)\n",
            "  Downloading clipboard-0.0.4.tar.gz (1.7 kB)\n",
            "  Preparing metadata (setup.py) ... \u001b[?25l\u001b[?25hdone\n",
            "Collecting colorama (from getpass4)\n",
            "  Downloading colorama-0.4.6-py2.py3-none-any.whl (25 kB)\n",
            "Requirement already satisfied: pyperclip in /usr/local/lib/python3.10/dist-packages (from getpass4) (1.8.2)\n",
            "Requirement already satisfied: SQLAlchemy[asyncio]>=1.4.49 in /usr/local/lib/python3.10/dist-packages (from llama-index) (2.0.24)\n",
            "Requirement already satisfied: aiohttp<4.0.0,>=3.8.6 in /usr/local/lib/python3.10/dist-packages (from llama-index) (3.9.1)\n",
            "Collecting beautifulsoup4<5.0.0,>=4.12.2 (from llama-index)\n",
            "  Downloading beautifulsoup4-4.12.3-py3-none-any.whl (147 kB)\n",
            "\u001b[2K     \u001b[90m━━━━━━━━━━━━━━━━━━━━━━━━━━━━━━━━━━━━━━━━\u001b[0m \u001b[32m147.9/147.9 kB\u001b[0m \u001b[31m9.9 MB/s\u001b[0m eta \u001b[36m0:00:00\u001b[0m\n",
            "\u001b[?25hCollecting dataclasses-json (from llama-index)\n",
            "  Downloading dataclasses_json-0.6.3-py3-none-any.whl (28 kB)\n",
            "Collecting deprecated>=1.2.9.3 (from llama-index)\n",
            "  Downloading Deprecated-1.2.14-py2.py3-none-any.whl (9.6 kB)\n",
            "Requirement already satisfied: fsspec>=2023.5.0 in /usr/local/lib/python3.10/dist-packages (from llama-index) (2023.6.0)\n",
            "Collecting httpx (from llama-index)\n",
            "  Downloading httpx-0.26.0-py3-none-any.whl (75 kB)\n",
            "\u001b[2K     \u001b[90m━━━━━━━━━━━━━━━━━━━━━━━━━━━━━━━━━━━━━━━━\u001b[0m \u001b[32m75.9/75.9 kB\u001b[0m \u001b[31m5.2 MB/s\u001b[0m eta \u001b[36m0:00:00\u001b[0m\n",
            "\u001b[?25hRequirement already satisfied: nest-asyncio<2.0.0,>=1.5.8 in /usr/local/lib/python3.10/dist-packages (from llama-index) (1.5.9)\n",
            "Requirement already satisfied: networkx>=3.0 in /usr/local/lib/python3.10/dist-packages (from llama-index) (3.2.1)\n",
            "Requirement already satisfied: nltk<4.0.0,>=3.8.1 in /usr/local/lib/python3.10/dist-packages (from llama-index) (3.8.1)\n",
            "Requirement already satisfied: numpy in /usr/local/lib/python3.10/dist-packages (from llama-index) (1.23.5)\n",
            "Requirement already satisfied: pandas in /usr/local/lib/python3.10/dist-packages (from llama-index) (1.5.3)\n",
            "Requirement already satisfied: requests>=2.31.0 in /usr/local/lib/python3.10/dist-packages (from llama-index) (2.31.0)\n",
            "Requirement already satisfied: tenacity<9.0.0,>=8.2.0 in /usr/local/lib/python3.10/dist-packages (from llama-index) (8.2.3)\n",
            "Collecting tiktoken>=0.3.3 (from llama-index)\n",
            "  Downloading tiktoken-0.5.2-cp310-cp310-manylinux_2_17_x86_64.manylinux2014_x86_64.whl (2.0 MB)\n",
            "\u001b[2K     \u001b[90m━━━━━━━━━━━━━━━━━━━━━━━━━━━━━━━━━━━━━━━━\u001b[0m \u001b[32m2.0/2.0 MB\u001b[0m \u001b[31m45.8 MB/s\u001b[0m eta \u001b[36m0:00:00\u001b[0m\n",
            "\u001b[?25hRequirement already satisfied: typing-extensions>=4.5.0 in /usr/local/lib/python3.10/dist-packages (from llama-index) (4.5.0)\n",
            "Collecting typing-inspect>=0.8.0 (from llama-index)\n",
            "  Downloading typing_inspect-0.9.0-py3-none-any.whl (8.8 kB)\n",
            "Requirement already satisfied: anyio<5,>=3.5.0 in /usr/local/lib/python3.10/dist-packages (from openai) (3.7.1)\n",
            "Requirement already satisfied: distro<2,>=1.7.0 in /usr/lib/python3/dist-packages (from openai) (1.7.0)\n",
            "Requirement already satisfied: pydantic<3,>=1.9.0 in /usr/local/lib/python3.10/dist-packages (from openai) (1.10.13)\n",
            "Requirement already satisfied: sniffio in /usr/local/lib/python3.10/dist-packages (from openai) (1.3.0)\n",
            "Requirement already satisfied: tqdm>4 in /usr/local/lib/python3.10/dist-packages (from openai) (4.66.1)\n",
            "Collecting typing-extensions>=4.5.0 (from llama-index)\n",
            "  Downloading typing_extensions-4.9.0-py3-none-any.whl (32 kB)\n",
            "Requirement already satisfied: attrs>=17.3.0 in /usr/local/lib/python3.10/dist-packages (from aiohttp<4.0.0,>=3.8.6->llama-index) (23.2.0)\n",
            "Requirement already satisfied: multidict<7.0,>=4.5 in /usr/local/lib/python3.10/dist-packages (from aiohttp<4.0.0,>=3.8.6->llama-index) (6.0.4)\n",
            "Requirement already satisfied: yarl<2.0,>=1.0 in /usr/local/lib/python3.10/dist-packages (from aiohttp<4.0.0,>=3.8.6->llama-index) (1.9.4)\n",
            "Requirement already satisfied: frozenlist>=1.1.1 in /usr/local/lib/python3.10/dist-packages (from aiohttp<4.0.0,>=3.8.6->llama-index) (1.4.1)\n",
            "Requirement already satisfied: aiosignal>=1.1.2 in /usr/local/lib/python3.10/dist-packages (from aiohttp<4.0.0,>=3.8.6->llama-index) (1.3.1)\n",
            "Requirement already satisfied: async-timeout<5.0,>=4.0 in /usr/local/lib/python3.10/dist-packages (from aiohttp<4.0.0,>=3.8.6->llama-index) (4.0.3)\n",
            "Requirement already satisfied: idna>=2.8 in /usr/local/lib/python3.10/dist-packages (from anyio<5,>=3.5.0->openai) (3.6)\n",
            "Requirement already satisfied: exceptiongroup in /usr/local/lib/python3.10/dist-packages (from anyio<5,>=3.5.0->openai) (1.2.0)\n",
            "Requirement already satisfied: soupsieve>1.2 in /usr/local/lib/python3.10/dist-packages (from beautifulsoup4<5.0.0,>=4.12.2->llama-index) (2.5)\n",
            "Requirement already satisfied: wrapt<2,>=1.10 in /usr/local/lib/python3.10/dist-packages (from deprecated>=1.2.9.3->llama-index) (1.14.1)\n",
            "Requirement already satisfied: certifi in /usr/local/lib/python3.10/dist-packages (from httpx->llama-index) (2023.11.17)\n",
            "Collecting httpcore==1.* (from httpx->llama-index)\n",
            "  Downloading httpcore-1.0.2-py3-none-any.whl (76 kB)\n",
            "\u001b[2K     \u001b[90m━━━━━━━━━━━━━━━━━━━━━━━━━━━━━━━━━━━━━━━━\u001b[0m \u001b[32m76.9/76.9 kB\u001b[0m \u001b[31m7.8 MB/s\u001b[0m eta \u001b[36m0:00:00\u001b[0m\n",
            "\u001b[?25hCollecting h11<0.15,>=0.13 (from httpcore==1.*->httpx->llama-index)\n",
            "  Downloading h11-0.14.0-py3-none-any.whl (58 kB)\n",
            "\u001b[2K     \u001b[90m━━━━━━━━━━━━━━━━━━━━━━━━━━━━━━━━━━━━━━━━\u001b[0m \u001b[32m58.3/58.3 kB\u001b[0m \u001b[31m6.2 MB/s\u001b[0m eta \u001b[36m0:00:00\u001b[0m\n",
            "\u001b[?25hRequirement already satisfied: click in /usr/local/lib/python3.10/dist-packages (from nltk<4.0.0,>=3.8.1->llama-index) (8.1.7)\n",
            "Requirement already satisfied: joblib in /usr/local/lib/python3.10/dist-packages (from nltk<4.0.0,>=3.8.1->llama-index) (1.3.2)\n",
            "Requirement already satisfied: regex>=2021.8.3 in /usr/local/lib/python3.10/dist-packages (from nltk<4.0.0,>=3.8.1->llama-index) (2023.6.3)\n",
            "Requirement already satisfied: charset-normalizer<4,>=2 in /usr/local/lib/python3.10/dist-packages (from requests>=2.31.0->llama-index) (3.3.2)\n",
            "Requirement already satisfied: urllib3<3,>=1.21.1 in /usr/local/lib/python3.10/dist-packages (from requests>=2.31.0->llama-index) (2.0.7)\n",
            "Requirement already satisfied: greenlet!=0.4.17 in /usr/local/lib/python3.10/dist-packages (from SQLAlchemy[asyncio]>=1.4.49->llama-index) (3.0.3)\n",
            "Collecting mypy-extensions>=0.3.0 (from typing-inspect>=0.8.0->llama-index)\n",
            "  Downloading mypy_extensions-1.0.0-py3-none-any.whl (4.7 kB)\n",
            "Collecting marshmallow<4.0.0,>=3.18.0 (from dataclasses-json->llama-index)\n",
            "  Downloading marshmallow-3.20.2-py3-none-any.whl (49 kB)\n",
            "\u001b[2K     \u001b[90m━━━━━━━━━━━━━━━━━━━━━━━━━━━━━━━━━━━━━━━━\u001b[0m \u001b[32m49.4/49.4 kB\u001b[0m \u001b[31m3.1 MB/s\u001b[0m eta \u001b[36m0:00:00\u001b[0m\n",
            "\u001b[?25hRequirement already satisfied: python-dateutil>=2.8.1 in /usr/local/lib/python3.10/dist-packages (from pandas->llama-index) (2.8.2)\n",
            "Requirement already satisfied: pytz>=2020.1 in /usr/local/lib/python3.10/dist-packages (from pandas->llama-index) (2023.3.post1)\n",
            "Requirement already satisfied: packaging>=17.0 in /usr/local/lib/python3.10/dist-packages (from marshmallow<4.0.0,>=3.18.0->dataclasses-json->llama-index) (23.2)\n",
            "Requirement already satisfied: six>=1.5 in /usr/local/lib/python3.10/dist-packages (from python-dateutil>=2.8.1->pandas->llama-index) (1.16.0)\n",
            "Building wheels for collected packages: clipboard\n",
            "  Building wheel for clipboard (setup.py) ... \u001b[?25l\u001b[?25hdone\n",
            "  Created wheel for clipboard: filename=clipboard-0.0.4-py3-none-any.whl size=1847 sha256=7467c57cbe6013549983a9c56ba928903fbd53059960e49c5bfc8b4994aa29c3\n",
            "  Stored in directory: /root/.cache/pip/wheels/a9/16/29/0b45762bf14ad4ba5495cd4ce66c7e326ecb0d5f1edeb7c94d\n",
            "Successfully built clipboard\n",
            "Installing collected packages: faiss-cpu, typing-extensions, pypdf, mypy-extensions, marshmallow, h11, deprecated, colorama, clipboard, caugetch, beautifulsoup4, typing-inspect, tiktoken, httpcore, getpass4, httpx, dataclasses-json, openai, llama-index\n",
            "  Attempting uninstall: typing-extensions\n",
            "    Found existing installation: typing_extensions 4.5.0\n",
            "    Uninstalling typing_extensions-4.5.0:\n",
            "      Successfully uninstalled typing_extensions-4.5.0\n",
            "  Attempting uninstall: beautifulsoup4\n",
            "    Found existing installation: beautifulsoup4 4.11.2\n",
            "    Uninstalling beautifulsoup4-4.11.2:\n",
            "      Successfully uninstalled beautifulsoup4-4.11.2\n",
            "\u001b[31mERROR: pip's dependency resolver does not currently take into account all the packages that are installed. This behaviour is the source of the following dependency conflicts.\n",
            "llmx 0.0.15a0 requires cohere, which is not installed.\n",
            "tensorflow-probability 0.22.0 requires typing-extensions<4.6.0, but you have typing-extensions 4.9.0 which is incompatible.\u001b[0m\u001b[31m\n",
            "\u001b[0mSuccessfully installed beautifulsoup4-4.12.3 caugetch-0.0.1 clipboard-0.0.4 colorama-0.4.6 dataclasses-json-0.6.3 deprecated-1.2.14 faiss-cpu-1.7.4 getpass4-0.0.14.1 h11-0.14.0 httpcore-1.0.2 httpx-0.26.0 llama-index-0.9.34 marshmallow-3.20.2 mypy-extensions-1.0.0 openai-1.8.0 pypdf-4.0.0 tiktoken-0.5.2 typing-extensions-4.9.0 typing-inspect-0.9.0\n"
          ]
        }
      ],
      "source": [
        "!pip install getpass4 pypdf llama-index openai faiss-cpu"
      ]
    },
    {
      "cell_type": "code",
      "source": [
        "#from google.colab import drive\n",
        "#drive.mount('/content/drive')"
      ],
      "metadata": {
        "id": "jqXELwU42ihm"
      },
      "id": "jqXELwU42ihm",
      "execution_count": 2,
      "outputs": []
    },
    {
      "cell_type": "code",
      "execution_count": 3,
      "id": "3edf4c98-de44-4d0b-ac7a-7273255a21cf",
      "metadata": {
        "tags": [],
        "id": "3edf4c98-de44-4d0b-ac7a-7273255a21cf"
      },
      "outputs": [],
      "source": [
        "import nest_asyncio\n",
        "\n",
        "nest_asyncio.apply()"
      ]
    },
    {
      "cell_type": "code",
      "execution_count": 4,
      "id": "9850b36e",
      "metadata": {
        "colab": {
          "base_uri": "https://localhost:8080/"
        },
        "id": "9850b36e",
        "outputId": "f1e0a48c-251c-4519-95ac-fe8d2e686c3d"
      },
      "outputs": [
        {
          "name": "stdout",
          "output_type": "stream",
          "text": [
            "OpenAI Key:··········\n"
          ]
        }
      ],
      "source": [
        "import os\n",
        "from getpass import getpass\n",
        "\n",
        "os.environ['OPENAI_API_KEY'] = getpass(\"OpenAI Key:\")"
      ]
    },
    {
      "cell_type": "code",
      "execution_count": 5,
      "id": "ae95482c-516d-41ce-8394-db949ed58716",
      "metadata": {
        "tags": [],
        "id": "ae95482c-516d-41ce-8394-db949ed58716"
      },
      "outputs": [],
      "source": [
        "from llama_index import SimpleDirectoryReader, ServiceContext, VectorStoreIndex, StorageContext\n",
        "from llama_index.response.pprint_utils import pprint_response\n",
        "from llama_index.llms import OpenAI\n",
        "\n",
        "from llama_index.tools import QueryEngineTool, ToolMetadata\n",
        "from llama_index.query_engine import SubQuestionQueryEngine"
      ]
    },
    {
      "cell_type": "code",
      "source": [
        "import faiss\n",
        "from llama_index.vector_stores import FaissVectorStore"
      ],
      "metadata": {
        "id": "4A3vcUsz3KiB"
      },
      "id": "4A3vcUsz3KiB",
      "execution_count": 6,
      "outputs": []
    },
    {
      "cell_type": "markdown",
      "id": "f2ffdb6c-b7df-4649-84d5-2b4ce32ad8a9",
      "metadata": {
        "tags": [],
        "id": "f2ffdb6c-b7df-4649-84d5-2b4ce32ad8a9"
      },
      "source": [
        "## Configure LLM service"
      ]
    },
    {
      "cell_type": "code",
      "execution_count": 7,
      "id": "96edd29c-15b6-44f9-bae0-8a1f97e07d17",
      "metadata": {
        "tags": [],
        "id": "96edd29c-15b6-44f9-bae0-8a1f97e07d17"
      },
      "outputs": [],
      "source": [
        "llm = OpenAI(temperature=0,\n",
        "             model=\"text-davinci-003\",\n",
        "             max_tokens=500)\n",
        "\n",
        "service_context = ServiceContext.from_defaults(llm=llm)"
      ]
    },
    {
      "cell_type": "markdown",
      "source": [
        "### Multiple Documents"
      ],
      "metadata": {
        "id": "HdhoDu3BN9_a"
      },
      "id": "HdhoDu3BN9_a"
    },
    {
      "cell_type": "code",
      "execution_count": 8,
      "id": "3f95b931",
      "metadata": {
        "id": "3f95b931"
      },
      "outputs": [],
      "source": [
        "q1_2022_new = SimpleDirectoryReader(\n",
        "    input_files=[\"/content/ifrs-inr-press-release_q1_2022.pdf\"]\n",
        ").load_data()\n",
        "\n",
        "q1_2023_new = SimpleDirectoryReader(\n",
        "    input_files=[\"/content/ifrs-inr-press-release_q1_2023.pdf\"]\n",
        ").load_data()\n",
        "\n",
        "q1_2024_new = SimpleDirectoryReader(\n",
        "    input_files=[\"/content/ifrs-inr-press-release_q1_2024.pdf\"]\n",
        ").load_data()"
      ]
    },
    {
      "cell_type": "code",
      "source": [
        "# dimensions of text-ada-embedding-002\n",
        "d = 1536\n",
        "faiss_index_m1 = faiss.IndexFlatL2(d)\n",
        "\n",
        "vector_store_m1 = FaissVectorStore(faiss_index=faiss_index_m1)\n",
        "storage_context_m1 = StorageContext.from_defaults(vector_store=vector_store_m1)\n",
        "q1_2022_index_m = VectorStoreIndex.from_documents(q1_2022_new, storage_context=storage_context_m1)\n"
      ],
      "metadata": {
        "id": "aTyzwjTVRHnJ"
      },
      "id": "aTyzwjTVRHnJ",
      "execution_count": 9,
      "outputs": []
    },
    {
      "cell_type": "code",
      "source": [
        "# dimensions of text-ada-embedding-002\n",
        "d = 1536\n",
        "faiss_index_m2 = faiss.IndexFlatL2(d)\n",
        "\n",
        "vector_store_m2 = FaissVectorStore(faiss_index=faiss_index_m2)\n",
        "storage_context_m2 = StorageContext.from_defaults(vector_store=vector_store_m2)\n",
        "q1_2023_index_m = VectorStoreIndex.from_documents(q1_2023_new, storage_context=storage_context_m2)\n"
      ],
      "metadata": {
        "id": "-2DcAdZ6OmXN"
      },
      "id": "-2DcAdZ6OmXN",
      "execution_count": 10,
      "outputs": []
    },
    {
      "cell_type": "code",
      "source": [
        "d = 1536\n",
        "faiss_index_m3 = faiss.IndexFlatL2(d)\n",
        "\n",
        "vector_store_m3 = FaissVectorStore(faiss_index=faiss_index_m3)\n",
        "storage_context_m3 = StorageContext.from_defaults(vector_store=vector_store_m3)\n",
        "\n",
        "q1_2024_index_m = VectorStoreIndex.from_documents(q1_2024_new, storage_context=storage_context_m3)"
      ],
      "metadata": {
        "id": "jmUsvCWWUPe1"
      },
      "id": "jmUsvCWWUPe1",
      "execution_count": 11,
      "outputs": []
    },
    {
      "cell_type": "code",
      "execution_count": 12,
      "id": "020dbd76",
      "metadata": {
        "id": "020dbd76"
      },
      "outputs": [],
      "source": [
        "q1_2022__engine_m = q1_2022_index_m.as_query_engine(similarity_top_k=2)\n",
        "q1_2023__engine_m = q1_2023_index_m.as_query_engine(similarity_top_k=2)\n",
        "q1_2024__engine_m = q1_2024_index_m.as_query_engine(similarity_top_k=2)"
      ]
    },
    {
      "cell_type": "code",
      "execution_count": 13,
      "id": "373c3af9",
      "metadata": {
        "id": "373c3af9"
      },
      "outputs": [],
      "source": [
        "query_engine_tools = [\n",
        "    QueryEngineTool(\n",
        "        query_engine=q1_2022__engine_m,\n",
        "        metadata=ToolMetadata(\n",
        "            name=\"q1_2022\",\n",
        "            description=\"Provides quarterly performance report for infosys for first quarter of 2022\",\n",
        "        ),\n",
        "    ),\n",
        "    QueryEngineTool(\n",
        "        query_engine=q1_2023__engine_m,\n",
        "        metadata=ToolMetadata(\n",
        "            name=\"q1_2023\",\n",
        "            description=\"Provides quarterly performance report for infosys for first quarter of 2023\",\n",
        "        ),\n",
        "    ),\n",
        "    QueryEngineTool(\n",
        "        query_engine=q1_2024__engine_m,\n",
        "        metadata=ToolMetadata(\n",
        "            name=\"q1_2024\",\n",
        "            description=\"Provides quarterly performance report for infosys for first quarter of 2024\",\n",
        "        ),\n",
        "    ),\n",
        "]"
      ]
    },
    {
      "cell_type": "code",
      "source": [
        "s_engine = SubQuestionQueryEngine.from_defaults(query_engine_tools=query_engine_tools)"
      ],
      "metadata": {
        "id": "czbsaSKjQNkP"
      },
      "id": "czbsaSKjQNkP",
      "execution_count": 14,
      "outputs": []
    },
    {
      "cell_type": "code",
      "source": [
        "response = s_engine.query(\n",
        "    \"What was the revenue growth in the first quarters of 2022, 2023 and 2024?\"\n",
        ")"
      ],
      "metadata": {
        "colab": {
          "base_uri": "https://localhost:8080/"
        },
        "id": "ekDQUWzpQOCF",
        "outputId": "48120109-fc20-4edd-865e-d1b0f5b5fe8d"
      },
      "id": "ekDQUWzpQOCF",
      "execution_count": 15,
      "outputs": [
        {
          "output_type": "stream",
          "name": "stdout",
          "text": [
            "Generated 3 sub questions.\n",
            "\u001b[1;3;38;2;237;90;200m[q1_2022] Q: What was the revenue growth in the first quarter of 2022?\n",
            "\u001b[0m\u001b[1;3;38;2;90;149;237m[q1_2023] Q: What was the revenue growth in the first quarter of 2023?\n",
            "\u001b[0m\u001b[1;3;38;2;11;159;203m[q1_2024] Q: What was the revenue growth in the first quarter of 2024?\n",
            "\u001b[0m\u001b[1;3;38;2;11;159;203m[q1_2024] A: The revenue growth in the first quarter of 2024 was not mentioned in the given context information.\n",
            "\u001b[0m\u001b[1;3;38;2;90;149;237m[q1_2023] A: The revenue growth in the first quarter of 2023 was 21.4% year-on-year in constant currency terms.\n",
            "\u001b[0m\u001b[1;3;38;2;237;90;200m[q1_2022] A: The revenue growth in the first quarter of 2022 was 16.9% year-on-year and 4.8% quarter-on-quarter in constant currency.\n",
            "\u001b[0m"
          ]
        }
      ]
    },
    {
      "cell_type": "code",
      "source": [
        "print(response)"
      ],
      "metadata": {
        "id": "pRMhTs9hQk6V",
        "colab": {
          "base_uri": "https://localhost:8080/"
        },
        "outputId": "48b267d3-b199-47f5-9e6b-72055e9c1264"
      },
      "id": "pRMhTs9hQk6V",
      "execution_count": 16,
      "outputs": [
        {
          "output_type": "stream",
          "name": "stdout",
          "text": [
            "The revenue growth in the first quarter of 2022 was 16.9% year-on-year and 4.8% quarter-on-quarter in constant currency. In the first quarter of 2023, the revenue growth was 21.4% year-on-year in constant currency terms. However, the revenue growth in the first quarter of 2024 was not mentioned in the given context information.\n"
          ]
        }
      ]
    },
    {
      "cell_type": "code",
      "source": [
        "response = s_engine.query(\n",
        "    \"How the total assets have changed from 2022 to 2024 year by year?\"\n",
        ")"
      ],
      "metadata": {
        "colab": {
          "base_uri": "https://localhost:8080/"
        },
        "id": "yLM7MZlmU5FT",
        "outputId": "e8aaa973-7e98-4387-cbcf-9a033c265087"
      },
      "id": "yLM7MZlmU5FT",
      "execution_count": 17,
      "outputs": [
        {
          "output_type": "stream",
          "name": "stdout",
          "text": [
            "Generated 3 sub questions.\n",
            "\u001b[1;3;38;2;237;90;200m[q1_2022] Q: What are the total assets for Infosys in the first quarter of 2022?\n",
            "\u001b[0m\u001b[1;3;38;2;90;149;237m[q1_2023] Q: What are the total assets for Infosys in the first quarter of 2023?\n",
            "\u001b[0m\u001b[1;3;38;2;11;159;203m[q1_2024] Q: What are the total assets for Infosys in the first quarter of 2024?\n",
            "\u001b[0m\u001b[1;3;38;2;11;159;203m[q1_2024] A: The total assets for Infosys in the first quarter of 2024 are 131,322 crore.\n",
            "\u001b[0m\u001b[1;3;38;2;237;90;200m[q1_2022] A: The total assets for Infosys in the first quarter of 2022 are ₹109,486 crore.\n",
            "\u001b[0m\u001b[1;3;38;2;90;149;237m[q1_2023] A: The total assets for Infosys in the first quarter of 2023 are ₹119,979 crore.\n",
            "\u001b[0m"
          ]
        }
      ]
    },
    {
      "cell_type": "code",
      "source": [
        "print(response)"
      ],
      "metadata": {
        "colab": {
          "base_uri": "https://localhost:8080/"
        },
        "id": "4ZFjsEHkVIdm",
        "outputId": "c526f978-1af5-48fb-bc9b-62758193ab28"
      },
      "id": "4ZFjsEHkVIdm",
      "execution_count": 18,
      "outputs": [
        {
          "output_type": "stream",
          "name": "stdout",
          "text": [
            "The total assets for Infosys have increased from ₹109,486 crore in the first quarter of 2022 to ₹119,979 crore in the first quarter of 2023, and further increased to ₹131,322 crore in the first quarter of 2024.\n"
          ]
        }
      ]
    },
    {
      "cell_type": "code",
      "source": [
        "response = s_engine.query(\n",
        "    \"Which are the key stragegic client wins or collborations that were achieved in 2022, 2023 and 2024?\")"
      ],
      "metadata": {
        "colab": {
          "base_uri": "https://localhost:8080/"
        },
        "id": "-ERPbLSRVM0U",
        "outputId": "8cabfd20-328b-4e20-bd60-be8dac9f422e"
      },
      "id": "-ERPbLSRVM0U",
      "execution_count": 19,
      "outputs": [
        {
          "output_type": "stream",
          "name": "stdout",
          "text": [
            "Generated 3 sub questions.\n",
            "\u001b[1;3;38;2;237;90;200m[q1_2022] Q: What were the key strategic client wins or collaborations achieved in 2022?\n",
            "\u001b[0m\u001b[1;3;38;2;90;149;237m[q1_2023] Q: What were the key strategic client wins or collaborations achieved in 2023?\n",
            "\u001b[0m\u001b[1;3;38;2;11;159;203m[q1_2024] Q: What were the key strategic client wins or collaborations achieved in 2024?\n",
            "\u001b[0m\u001b[1;3;38;2;237;90;200m[q1_2022] A: The key strategic client wins or collaborations achieved in 2022 include Archrock, the French Tennis Federation, and Britvic. Archrock selected Infosys to integrate digital technologies and mobile tools for its field service technicians. The French Tennis Federation partnered with Infosys to transform the Roland-Garros experience for the tennis ecosystem. Britvic chose Infosys to help deliver their strategic transformation roadmap and operations.\n",
            "\u001b[0m\u001b[1;3;38;2;11;159;203m[q1_2024] A: In 2024, Infosys achieved key strategic client wins and collaborations with companies such as Danske Bank, bp, Aramco, British Telecom, Walmart Commerce Technologies, vidaXL, and LexisNexis. These collaborations involved accelerating digital transformation initiatives, delivering innovative solutions, enhancing employee experience through AI technologies, providing end-to-end information services, and setting up business technology support in a scalable and cost-effective way.\n",
            "\u001b[0m\u001b[1;3;38;2;90;149;237m[q1_2023] A: In 2023, Infosys achieved key strategic client wins and collaborations. They extended their strategic collaboration with Rolls-Royce to launch a joint Aerospace Engineering and Digital Innovation Centre in Bengaluru, India. They also collaborated with Backcountry to deliver seamless and secure digital experiences for outdoor enthusiasts. Additionally, Infosys collaborated with TK Elevator to revamp their digital workplace management, network security, and IT infrastructure. Furthermore, EisnerAmper, one of the largest accounting, tax, and business advisory firms in the U.S., selected Infosys for implementing a flexible and scalable solution.\n",
            "\u001b[0m"
          ]
        }
      ]
    },
    {
      "cell_type": "code",
      "source": [
        "print(response)"
      ],
      "metadata": {
        "colab": {
          "base_uri": "https://localhost:8080/"
        },
        "id": "CmYweD4VVhdc",
        "outputId": "4408c003-5548-4d8b-d950-c2512a9a1c7d"
      },
      "id": "CmYweD4VVhdc",
      "execution_count": 20,
      "outputs": [
        {
          "output_type": "stream",
          "name": "stdout",
          "text": [
            "The key strategic client wins or collaborations achieved in 2022 include Archrock, the French Tennis Federation, and Britvic. In 2023, Infosys achieved key strategic client wins and collaborations with Rolls-Royce, Backcountry, TK Elevator, and EisnerAmper. In 2024, Infosys achieved key strategic client wins and collaborations with Danske Bank, bp, Aramco, British Telecom, Walmart Commerce Technologies, vidaXL, and LexisNexis.\n"
          ]
        }
      ]
    },
    {
      "cell_type": "code",
      "source": [
        "response = s_engine.query(\n",
        "    \"Which was the message by the CEO in the press release of first quarter for the year 2024?\")"
      ],
      "metadata": {
        "colab": {
          "base_uri": "https://localhost:8080/"
        },
        "id": "FVEglRLOVqTD",
        "outputId": "467ab894-62b0-4402-d82a-7c4553588691"
      },
      "id": "FVEglRLOVqTD",
      "execution_count": 21,
      "outputs": [
        {
          "output_type": "stream",
          "name": "stdout",
          "text": [
            "Generated 1 sub questions.\n",
            "\u001b[1;3;38;2;237;90;200m[q1_2024] Q: What is the message by the CEO in the press release of first quarter for the year 2024?\n",
            "\u001b[0m\u001b[1;3;38;2;237;90;200m[q1_2024] A: The CEO's message in the press release for the first quarter of 2024 is that the company had a solid Q1 with a growth of 4.2% and large deals of $2.3 billion, which sets a strong foundation for future growth. The CEO also highlights the expansion of their generative AI capabilities, with 80 active client projects, and mentions that their comprehensive AI offering, Topaz, is resonating well with clients. The CEO sees this AI expansion as transformative for clients and enhancing the overall service portfolio. Additionally, the CEO mentions that the company has expanded the margin improvement program with a holistic set of actions for the short, medium, and long-term, supported by the leadership team.\n",
            "\u001b[0m"
          ]
        }
      ]
    },
    {
      "cell_type": "code",
      "source": [
        "print(response)"
      ],
      "metadata": {
        "colab": {
          "base_uri": "https://localhost:8080/"
        },
        "id": "xml__NJRWz94",
        "outputId": "0e837055-d993-47c6-ed28-1ce1d2840b1d"
      },
      "id": "xml__NJRWz94",
      "execution_count": 22,
      "outputs": [
        {
          "output_type": "stream",
          "name": "stdout",
          "text": [
            "The CEO's message in the press release for the first quarter of 2024 is that the company had a solid Q1 with a growth of 4.2% and large deals of $2.3 billion, which sets a strong foundation for future growth. The CEO also highlights the expansion of their generative AI capabilities, with 80 active client projects, and mentions that their comprehensive AI offering, Topaz, is resonating well with clients. The CEO sees this AI expansion as transformative for clients and enhancing the overall service portfolio. Additionally, the CEO mentions that the company has expanded the margin improvement program with a holistic set of actions for the short, medium, and long-term, supported by the leadership team.\n"
          ]
        }
      ]
    },
    {
      "cell_type": "code",
      "source": [],
      "metadata": {
        "id": "56x8mPR8W3Tt"
      },
      "id": "56x8mPR8W3Tt",
      "execution_count": null,
      "outputs": []
    }
  ],
  "metadata": {
    "kernelspec": {
      "display_name": "Python 3 (ipykernel)",
      "language": "python",
      "name": "python3"
    },
    "language_info": {
      "codemirror_mode": {
        "name": "ipython",
        "version": 3
      },
      "file_extension": ".py",
      "mimetype": "text/x-python",
      "name": "python",
      "nbconvert_exporter": "python",
      "pygments_lexer": "ipython3",
      "version": "3.10.9"
    },
    "colab": {
      "provenance": []
    }
  },
  "nbformat": 4,
  "nbformat_minor": 5
}