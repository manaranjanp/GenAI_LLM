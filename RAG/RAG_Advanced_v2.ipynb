{
  "cells": [
    {
      "cell_type": "markdown",
      "id": "ec889d86-0d16-477f-8b7f-be03d73ad957",
      "metadata": {
        "id": "ec889d86-0d16-477f-8b7f-be03d73ad957"
      },
      "source": [
        "# Lab 1 - Overview of embeddings-based retrieval"
      ]
    },
    {
      "cell_type": "markdown",
      "id": "58ee2f53-d88b-4f00-94a2-75a66d4149e9",
      "metadata": {
        "id": "58ee2f53-d88b-4f00-94a2-75a66d4149e9"
      },
      "source": [
        "Welcome! Here's a few notes about the Chroma course notebooks.\n",
        " - A number of warnings pop up when running the notebooks. These are normal and can be ignored.\n",
        " - Some operations such as calling an LLM or an opeation using generated data return unpredictable results and so your notebook outputs may differ from the video.\n",
        "  \n",
        "Enjoy the course!"
      ]
    },
    {
      "cell_type": "code",
      "source": [
        "!pip install pypdf langchain openai transformers chromadb sentence_transformers"
      ],
      "metadata": {
        "id": "leJGu5PFk9V9"
      },
      "id": "leJGu5PFk9V9",
      "execution_count": null,
      "outputs": []
    },
    {
      "cell_type": "markdown",
      "source": [
        "# Basic RAG"
      ],
      "metadata": {
        "id": "n4R-9HaKubSC"
      },
      "id": "n4R-9HaKubSC"
    },
    {
      "cell_type": "code",
      "execution_count": null,
      "id": "5a5536f0-651c-40e7-aa15-27ee0cda80b7",
      "metadata": {
        "id": "5a5536f0-651c-40e7-aa15-27ee0cda80b7"
      },
      "outputs": [],
      "source": [
        "def word_wrap(string, n_chars=72):\n",
        "    # Wrap a string at the next space after n_chars\n",
        "    if len(string) < n_chars:\n",
        "        return string\n",
        "    else:\n",
        "        return (string[:n_chars].rsplit(' ', 1)[0] + '\\n' +\n",
        "                word_wrap(string[len(string[:n_chars].rsplit(' ', 1)[0])+1:], n_chars))"
      ]
    },
    {
      "cell_type": "code",
      "execution_count": null,
      "id": "3748b16d-d4a7-49c3-a48a-57dcfc42acd6",
      "metadata": {
        "id": "3748b16d-d4a7-49c3-a48a-57dcfc42acd6"
      },
      "outputs": [],
      "source": [
        "from pypdf import PdfReader\n",
        "\n",
        "reader = PdfReader(\"/content/microsoft_annual_report_2022.pdf\")\n",
        "pdf_texts = [p.extract_text().strip() for p in reader.pages]\n",
        "\n",
        "# Filter the empty strings\n",
        "pdf_texts = [text for text in pdf_texts if text]"
      ]
    },
    {
      "cell_type": "code",
      "execution_count": null,
      "id": "11495537",
      "metadata": {
        "id": "11495537"
      },
      "outputs": [],
      "source": [
        "print(word_wrap(pdf_texts[0][0:1000]))"
      ]
    },
    {
      "cell_type": "code",
      "execution_count": null,
      "id": "a338ec83-6301-41a5-9ab1-e5d583306a3f",
      "metadata": {
        "id": "a338ec83-6301-41a5-9ab1-e5d583306a3f"
      },
      "outputs": [],
      "source": [
        "from langchain.text_splitter import RecursiveCharacterTextSplitter, SentenceTransformersTokenTextSplitter"
      ]
    },
    {
      "cell_type": "code",
      "execution_count": null,
      "id": "888a86f8-2fe2-4682-bdaf-c15129ed1a32",
      "metadata": {
        "id": "888a86f8-2fe2-4682-bdaf-c15129ed1a32"
      },
      "outputs": [],
      "source": [
        "character_splitter = RecursiveCharacterTextSplitter(\n",
        "    separators=[\"\\n\\n\", \"\\n\", \". \", \" \", \"\"],\n",
        "    chunk_size=1000,\n",
        "    chunk_overlap=100\n",
        ")\n",
        "character_split_texts = character_splitter.split_text('\\n\\n'.join(pdf_texts))"
      ]
    },
    {
      "cell_type": "code",
      "execution_count": null,
      "id": "96410367",
      "metadata": {
        "id": "96410367"
      },
      "outputs": [],
      "source": [
        "#print(word_wrap(character_split_texts[10]))\n",
        "#print(f\"\\nTotal chunks: {len(character_split_texts)}\")"
      ]
    },
    {
      "cell_type": "code",
      "execution_count": null,
      "id": "5665c695-22ea-4264-b1ac-5ba720b6d78b",
      "metadata": {
        "id": "5665c695-22ea-4264-b1ac-5ba720b6d78b"
      },
      "outputs": [],
      "source": [
        "#token_splitter = SentenceTransformersTokenTextSplitter(chunk_overlap=0, tokens_per_chunk=256)\n",
        "\n",
        "#token_split_texts = []\n",
        "#for text in character_split_texts:\n",
        "#    token_split_texts += token_splitter.split_text(text)\n",
        "\n",
        "#print(word_wrap(token_split_texts[10]))\n",
        "#print(f\"\\nTotal chunks: {len(token_split_texts)}\")"
      ]
    },
    {
      "cell_type": "code",
      "execution_count": null,
      "id": "c2a13d14-4484-46f0-8e67-277337f9d138",
      "metadata": {
        "id": "c2a13d14-4484-46f0-8e67-277337f9d138"
      },
      "outputs": [],
      "source": [
        "import chromadb\n",
        "from chromadb.utils.embedding_functions import SentenceTransformerEmbeddingFunction\n",
        "\n",
        "embedding_function = SentenceTransformerEmbeddingFunction()"
      ]
    },
    {
      "cell_type": "code",
      "source": [
        "print(embedding_function([character_split_texts[10]]))"
      ],
      "metadata": {
        "id": "HTrUV6ZklfkM"
      },
      "id": "HTrUV6ZklfkM",
      "execution_count": null,
      "outputs": []
    },
    {
      "cell_type": "code",
      "execution_count": null,
      "id": "8ba6c8c5-9ce4-44d0-9223-6fdd77871f87",
      "metadata": {
        "id": "8ba6c8c5-9ce4-44d0-9223-6fdd77871f87"
      },
      "outputs": [],
      "source": [
        "chroma_client = chromadb.Client()\n",
        "chroma_collection = chroma_client.create_collection(\"microsoft_annual_report_2022\",\n",
        "                                                    embedding_function=embedding_function)\n",
        "\n",
        "ids = [str(i) for i in range(len(character_split_texts))]\n",
        "\n",
        "chroma_collection.add(ids=ids, documents=character_split_texts)\n",
        "chroma_collection.count()"
      ]
    },
    {
      "cell_type": "code",
      "execution_count": null,
      "id": "bfdb54db-a442-423c-b006-c33a257cd7d7",
      "metadata": {
        "id": "bfdb54db-a442-423c-b006-c33a257cd7d7"
      },
      "outputs": [],
      "source": [
        "query = \"What was the total revenue?\"\n",
        "\n",
        "results = chroma_collection.query(query_texts=[query], n_results=3)\n",
        "retrieved_documents = results['documents'][0]"
      ]
    },
    {
      "cell_type": "code",
      "source": [
        "for document in retrieved_documents:\n",
        "    print('===========================================================')\n",
        "    print(word_wrap(document))\n",
        "    print('\\n')"
      ],
      "metadata": {
        "id": "4PABQx7FmptA"
      },
      "id": "4PABQx7FmptA",
      "execution_count": null,
      "outputs": []
    },
    {
      "cell_type": "code",
      "source": [
        "import os\n",
        "import openai\n",
        "from openai import OpenAI\n",
        "from getpass import getpass"
      ],
      "metadata": {
        "id": "4ApdunMnmUch"
      },
      "id": "4ApdunMnmUch",
      "execution_count": null,
      "outputs": []
    },
    {
      "cell_type": "code",
      "source": [
        "openai.api_key = getpass(\"OpenAI Key: \")"
      ],
      "metadata": {
        "id": "feXxeAQLm1ff"
      },
      "id": "feXxeAQLm1ff",
      "execution_count": null,
      "outputs": []
    },
    {
      "cell_type": "code",
      "execution_count": null,
      "id": "377a84aa-1d93-4e97-9b2d-d59c46355338",
      "metadata": {
        "id": "377a84aa-1d93-4e97-9b2d-d59c46355338"
      },
      "outputs": [],
      "source": [
        "openai_client = OpenAI(api_key = openai.api_key)"
      ]
    },
    {
      "cell_type": "code",
      "execution_count": null,
      "id": "ba0ed8ca-6640-4c09-9cb3-9de5e7cf46dc",
      "metadata": {
        "id": "ba0ed8ca-6640-4c09-9cb3-9de5e7cf46dc"
      },
      "outputs": [],
      "source": [
        "def rag(query, retrieved_documents, model=\"gpt-3.5-turbo\"):\n",
        "    information = \"\\n\\n\".join(retrieved_documents)\n",
        "\n",
        "    messages = [\n",
        "        {\n",
        "            \"role\": \"system\",\n",
        "            \"content\": \"You are a helpful expert financial research assistant. Your users are asking questions about information contained in an annual report.\"\n",
        "            \"You will be shown the user's question, and the relevant information from the annual report. Answer the user's question using only this information.\"\n",
        "        },\n",
        "        {\"role\": \"user\", \"content\": f\"Question: {query}. \\n Information: {information}\"}\n",
        "    ]\n",
        "\n",
        "    response = openai_client.chat.completions.create(\n",
        "        model=model,\n",
        "        messages=messages,\n",
        "    )\n",
        "    content = response.choices[0].message.content\n",
        "    return content"
      ]
    },
    {
      "cell_type": "code",
      "execution_count": null,
      "id": "28bac3a2-0d29-48dc-9b48-2d9313239a25",
      "metadata": {
        "id": "28bac3a2-0d29-48dc-9b48-2d9313239a25"
      },
      "outputs": [],
      "source": [
        "output = rag(query=query, retrieved_documents=retrieved_documents)\n",
        "\n",
        "print(word_wrap(output))"
      ]
    },
    {
      "cell_type": "markdown",
      "source": [
        "# Query 2\n",
        "\n",
        "**What were the most important factors that contributed to increases in revenue?**\n"
      ],
      "metadata": {
        "id": "na4xXBLqpf2i"
      },
      "id": "na4xXBLqpf2i"
    },
    {
      "cell_type": "code",
      "source": [
        "original_query = \"What were the most important factors that contributed to increases in revenue?\"\n",
        "\n",
        "results_q2 = chroma_collection.query(query_texts=[original_query], n_results=3)\n",
        "retrieved_documents_q2 = results_q2['documents'][0]"
      ],
      "metadata": {
        "id": "k8ABE_WvpXJR"
      },
      "id": "k8ABE_WvpXJR",
      "execution_count": null,
      "outputs": []
    },
    {
      "cell_type": "code",
      "source": [
        "output_q2 = rag(query=original_query, retrieved_documents=retrieved_documents_q2)\n",
        "\n",
        "print(word_wrap(output_q2))"
      ],
      "metadata": {
        "id": "qx2VaodipqaT"
      },
      "id": "qx2VaodipqaT",
      "execution_count": null,
      "outputs": []
    },
    {
      "cell_type": "markdown",
      "source": [
        "## Query Expansion"
      ],
      "metadata": {
        "id": "jESGqPw5oFfp"
      },
      "id": "jESGqPw5oFfp"
    },
    {
      "cell_type": "code",
      "execution_count": null,
      "id": "b1183e75-4c65-422e-bc47-48010d8b29c9",
      "metadata": {
        "id": "b1183e75-4c65-422e-bc47-48010d8b29c9"
      },
      "outputs": [],
      "source": [
        "def augment_multiple_query(query, model=\"gpt-3.5-turbo\"):\n",
        "    messages = [\n",
        "        {\n",
        "            \"role\": \"system\",\n",
        "            \"content\": \"You are a helpful expert financial research assistant. Your users are asking questions about an annual report. \"\n",
        "            \"Suggest two additional related questions to help them find the information they need, for the provided question. \"\n",
        "            \"Suggest only short questions without compound sentences. Suggest a variety of questions that cover different aspects of the topic.\"\n",
        "            \"Make sure they are complete questions, and that they are related to the original question.\"\n",
        "            \"Output one question per line. Do not number the questions.\"\n",
        "        },\n",
        "        {\"role\": \"user\", \"content\": query}\n",
        "    ]\n",
        "\n",
        "    response = openai_client.chat.completions.create(\n",
        "        model=model,\n",
        "        messages=messages,\n",
        "    )\n",
        "    content = response.choices[0].message.content\n",
        "    content = content.split(\"\\n\")\n",
        "    return content"
      ]
    },
    {
      "cell_type": "code",
      "execution_count": null,
      "id": "5fcd85cc-8898-41ed-a0aa-bd8a33fc565a",
      "metadata": {
        "id": "5fcd85cc-8898-41ed-a0aa-bd8a33fc565a"
      },
      "outputs": [],
      "source": [
        "augmented_queries = augment_multiple_query(original_query)"
      ]
    },
    {
      "cell_type": "code",
      "source": [
        "for query in augmented_queries:\n",
        "    print(query)"
      ],
      "metadata": {
        "id": "U60X3KjeoL0_"
      },
      "id": "U60X3KjeoL0_",
      "execution_count": null,
      "outputs": []
    },
    {
      "cell_type": "code",
      "execution_count": null,
      "id": "c65337e9-85ee-47f7-89fd-7fe77cd0e1b2",
      "metadata": {
        "id": "c65337e9-85ee-47f7-89fd-7fe77cd0e1b2"
      },
      "outputs": [],
      "source": [
        "queries = [original_query] + augmented_queries\n",
        "results = chroma_collection.query(query_texts=queries, n_results=2, include=['documents', 'embeddings'])\n",
        "\n",
        "retrieved_documents = results['documents']\n",
        "\n",
        "# Deduplicate the retrieved documents\n",
        "unique_documents = set()\n",
        "for documents in retrieved_documents:\n",
        "    for document in documents:\n",
        "        unique_documents.add(document)"
      ]
    },
    {
      "cell_type": "code",
      "source": [
        "for i, documents in enumerate(retrieved_documents):\n",
        "    print(f\"Query: {queries[i]}\")\n",
        "    print('')\n",
        "    print(\"Results:\")\n",
        "    for doc in documents:\n",
        "        print(word_wrap(doc))\n",
        "        print('')\n",
        "    print('-'*100)"
      ],
      "metadata": {
        "id": "TvkUwM2Xo9pa"
      },
      "id": "TvkUwM2Xo9pa",
      "execution_count": null,
      "outputs": []
    },
    {
      "cell_type": "code",
      "execution_count": null,
      "id": "a7794092-4195-4cf3-9eab-11c9c05a26b9",
      "metadata": {
        "id": "a7794092-4195-4cf3-9eab-11c9c05a26b9"
      },
      "outputs": [],
      "source": [
        "output = rag(query=query, retrieved_documents=unique_documents)\n",
        "\n",
        "print(word_wrap(output))"
      ]
    },
    {
      "cell_type": "markdown",
      "source": [
        "## Document Retriever with Cross Encoder Re-ranking"
      ],
      "metadata": {
        "id": "EwDLKWmuqF7Q"
      },
      "id": "EwDLKWmuqF7Q"
    },
    {
      "cell_type": "code",
      "source": [
        "query_3 = \"What has been the investment in research and development?\"\n",
        "results_3 = chroma_collection.query(query_texts=query_3, n_results=10, include=['documents', 'embeddings'])"
      ],
      "metadata": {
        "id": "8e9lp68IqFit"
      },
      "id": "8e9lp68IqFit",
      "execution_count": null,
      "outputs": []
    },
    {
      "cell_type": "code",
      "source": [
        "retrieved_documents_3 = results_3['documents'][0]"
      ],
      "metadata": {
        "id": "WPxIFMFaqfO1"
      },
      "id": "WPxIFMFaqfO1",
      "execution_count": null,
      "outputs": []
    },
    {
      "cell_type": "code",
      "source": [
        "for document in results_3['documents'][0]:\n",
        "    print('===========================================================')\n",
        "    print(word_wrap(document))\n",
        "    print('')"
      ],
      "metadata": {
        "id": "-ypaCB1WqhkT"
      },
      "id": "-ypaCB1WqhkT",
      "execution_count": null,
      "outputs": []
    },
    {
      "cell_type": "code",
      "source": [
        "from sentence_transformers import CrossEncoder\n",
        "cross_encoder = CrossEncoder('cross-encoder/ms-marco-MiniLM-L-6-v2')"
      ],
      "metadata": {
        "id": "mPuaEAm1qmTe"
      },
      "id": "mPuaEAm1qmTe",
      "execution_count": null,
      "outputs": []
    },
    {
      "cell_type": "code",
      "source": [
        "pairs = [[query_3, doc] for doc in retrieved_documents_3]\n",
        "scores = cross_encoder.predict(pairs)"
      ],
      "metadata": {
        "id": "f41n7VDgqrz7"
      },
      "id": "f41n7VDgqrz7",
      "execution_count": null,
      "outputs": []
    },
    {
      "cell_type": "code",
      "source": [
        "scores"
      ],
      "metadata": {
        "id": "ZlrSGlLXr68v"
      },
      "id": "ZlrSGlLXr68v",
      "execution_count": null,
      "outputs": []
    },
    {
      "cell_type": "code",
      "source": [
        "import pandas as pd"
      ],
      "metadata": {
        "id": "KTMfyJRwthCl"
      },
      "id": "KTMfyJRwthCl",
      "execution_count": null,
      "outputs": []
    },
    {
      "cell_type": "code",
      "source": [
        "doc_with_scores = pd.DataFrame( { \"doc\" : retrieved_documents_3,\n",
        "                                  \"score\": scores })"
      ],
      "metadata": {
        "id": "ge-Oh3X-ssvg"
      },
      "id": "ge-Oh3X-ssvg",
      "execution_count": null,
      "outputs": []
    },
    {
      "cell_type": "code",
      "source": [
        "doc_with_scores = doc_with_scores.sort_values(\"score\", ascending = False).reset_index()\n",
        "doc_with_scores"
      ],
      "metadata": {
        "id": "BcqWXzoBtbM_"
      },
      "id": "BcqWXzoBtbM_",
      "execution_count": null,
      "outputs": []
    },
    {
      "cell_type": "code",
      "source": [
        "doc_with_scores['doc'][0:3]"
      ],
      "metadata": {
        "id": "UoyCemKLuRue"
      },
      "id": "UoyCemKLuRue",
      "execution_count": null,
      "outputs": []
    },
    {
      "cell_type": "code",
      "source": [
        "output = rag(query=query_3, retrieved_documents=doc_with_scores['doc'][0:3])"
      ],
      "metadata": {
        "id": "O1tPbv60q3Du"
      },
      "id": "O1tPbv60q3Du",
      "execution_count": null,
      "outputs": []
    },
    {
      "cell_type": "code",
      "source": [
        "print(word_wrap(output))"
      ],
      "metadata": {
        "id": "eNZBVaF3uUVL"
      },
      "id": "eNZBVaF3uUVL",
      "execution_count": null,
      "outputs": []
    },
    {
      "cell_type": "code",
      "source": [],
      "metadata": {
        "id": "JENah8PjuYSP"
      },
      "id": "JENah8PjuYSP",
      "execution_count": null,
      "outputs": []
    }
  ],
  "metadata": {
    "kernelspec": {
      "display_name": "Python 3 (ipykernel)",
      "language": "python",
      "name": "python3"
    },
    "language_info": {
      "codemirror_mode": {
        "name": "ipython",
        "version": 3
      },
      "file_extension": ".py",
      "mimetype": "text/x-python",
      "name": "python",
      "nbconvert_exporter": "python",
      "pygments_lexer": "ipython3",
      "version": "3.10.9"
    },
    "colab": {
      "provenance": []
    }
  },
  "nbformat": 4,
  "nbformat_minor": 5
}